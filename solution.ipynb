{
  "nbformat": 4,
  "nbformat_minor": 0,
  "metadata": {
    "colab": {
      "provenance": []
    },
    "kernelspec": {
      "name": "python3",
      "display_name": "Python 3"
    },
    "language_info": {
      "name": "python"
    }
  },
  "cells": [
    {
      "cell_type": "markdown",
      "source": [
        "## Task \n",
        "- Complete **rotateString** function following the description below\n",
        "\n",
        "### Rotate String\n",
        "Given two strings **s** and **goal**, return **true** *if and only if* **s** can become **goal** after some number of shifts on **s**.\n",
        "\n",
        "A shift on **s** consists of moving the leftmost character of **s** to the rightmost position.\n",
        "\n",
        "- For example, if **s = \"abcde\"**, then it will be **\"bcdea\"** after one shift."
      ],
      "metadata": {
        "id": "TV3Socqg8BVl"
      }
    },
    {
      "cell_type": "code",
      "execution_count": 74,
      "metadata": {
        "id": "5FcxitVf5kdQ"
      },
      "outputs": [],
      "source": [
        "def rotateString(s, goal):\n",
        "  # Write a code here\n",
        "\n",
        "  # Check the length\n",
        "  if(len(s)!=len(goal)):\n",
        "    return False\n",
        "\n",
        "  # Check the same string\n",
        "  if(s == goal):\n",
        "    return True\n",
        "\n",
        "  # Find the start value of s in goal\n",
        "  i = 0\n",
        "  status = \"false\"\n",
        "  for y in goal:\n",
        "    if s[0] == y:\n",
        "      status = \"true\"\n",
        "      break\n",
        "    else:\n",
        "      i = i + 1\n",
        "\n",
        "  # If there is no such value\n",
        "  if status == \"false\":\n",
        "    return False\n",
        "\n",
        "  # Connect the string\n",
        "  if s[i-1:] + s[:i-1] == goal:\n",
        "    return True\n",
        "  else:\n",
        "    return False\n",
        "\n",
        "\n",
        "\n"
      ]
    },
    {
      "cell_type": "code",
      "source": [
        "'''\n",
        "Testcase 1. \n",
        "Input: s = \"abcde\", goal = \"cdeab\"\n",
        "Output: True\n",
        "'''\n",
        "rotateString(\"abcde\", \"cdeab\")"
      ],
      "metadata": {
        "id": "iGtv8pRU59yu",
        "colab": {
          "base_uri": "https://localhost:8080/"
        },
        "outputId": "54183eb2-4bb9-4a0b-9ec3-5847bf2a054b"
      },
      "execution_count": 75,
      "outputs": [
        {
          "output_type": "execute_result",
          "data": {
            "text/plain": [
              "True"
            ]
          },
          "metadata": {},
          "execution_count": 75
        }
      ]
    },
    {
      "cell_type": "code",
      "source": [
        "'''\n",
        "Testcase 2. \n",
        "Input: s = \"abcde\", goal = \"abced\"\n",
        "Output: False\n",
        "'''\n",
        "rotateString(\"abcde\", \"abced\")"
      ],
      "metadata": {
        "id": "c_igv9cg6Jb0",
        "colab": {
          "base_uri": "https://localhost:8080/"
        },
        "outputId": "5d0e9c42-685f-47d9-c6a6-70639b68ab30"
      },
      "execution_count": 76,
      "outputs": [
        {
          "output_type": "execute_result",
          "data": {
            "text/plain": [
              "False"
            ]
          },
          "metadata": {},
          "execution_count": 76
        }
      ]
    },
    {
      "cell_type": "code",
      "source": [
        "'''\n",
        "Testcase 3. \n",
        "Input: s = \"abcde\", goal = \"abcde\"\n",
        "Output: True\n",
        "'''\n",
        "rotateString(\"abcde\", \"abcde\")"
      ],
      "metadata": {
        "id": "gzATcpEZ6P67",
        "colab": {
          "base_uri": "https://localhost:8080/"
        },
        "outputId": "da94af34-a12a-40ba-d1fc-273e16dcd7d5"
      },
      "execution_count": 77,
      "outputs": [
        {
          "output_type": "execute_result",
          "data": {
            "text/plain": [
              "True"
            ]
          },
          "metadata": {},
          "execution_count": 77
        }
      ]
    }
  ]
}